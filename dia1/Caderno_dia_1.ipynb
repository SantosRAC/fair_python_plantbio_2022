{
  "nbformat": 4,
  "nbformat_minor": 0,
  "metadata": {
    "colab": {
      "provenance": []
    },
    "kernelspec": {
      "name": "python3",
      "display_name": "Python 3"
    },
    "language_info": {
      "name": "python"
    }
  },
  "cells": [
    {
      "cell_type": "markdown",
      "source": [
        "# Caderno dia 1"
      ],
      "metadata": {
        "id": "NEKeJhbHN0b2"
      }
    },
    {
      "cell_type": "markdown",
      "source": [
        "# Comentários em python\n",
        "\n",
        "Os comentários em python apresentam 3 finalidades principais. São elas:\n",
        "\n",
        "*   Explicar o código\n",
        "*   Facilitar a leitura e organização do script\n",
        "*   Impedir a excução de certas linhas do código (útil principalmente para testes)\n",
        "\n",
        "Eles são iniciados por \"#\" e podem ser colocados no início das linhas ou na frente do código. Tudo o que vier depois de \"#\" não será executado. Para comentários de mais de uma linha, usamos três aspas simples ( ''' ) no começo e final do que se deseja comentar."
      ],
      "metadata": {
        "id": "9sbKj_Nz8lsw"
      }
    },
    {
      "cell_type": "code",
      "execution_count": null,
      "metadata": {
        "id": "v1i6V6DhNwHB",
        "colab": {
          "base_uri": "https://localhost:8080/",
          "height": 52
        },
        "outputId": "dde8ba22-7541-4e86-d2ae-a3ba5af998e6"
      },
      "outputs": [
        {
          "output_type": "stream",
          "name": "stdout",
          "text": [
            "Hello, World!\n"
          ]
        },
        {
          "output_type": "execute_result",
          "data": {
            "text/plain": [
              "'\\nComentários que usam mais de uma linha \\npodem ser escritos \\nentre 3 aspas simples\\n'"
            ],
            "application/vnd.google.colaboratory.intrinsic+json": {
              "type": "string"
            }
          },
          "metadata": {},
          "execution_count": 1
        }
      ],
      "source": [
        "# explicar a finalidade do bloco de código é uma maneira de facilitar sua leitura\n",
        "\n",
        "print(\"Hello, World!\") # comentários na frente do código podem explicar sua função\n",
        "\n",
        "# comentar um código impede a execução da linha\n",
        "# print(\"Hello, World!\")\n",
        "\n",
        "'''\n",
        "Comentários que usam mais de uma linha\n",
        "podem ser escritos\n",
        "entre 3 aspas simples\n",
        "'''\n",
        "\n",
        "\"\"\"\n",
        "Comentários que usam mais de uma linha\n",
        "podem ser escritos\n",
        "entre 3 aspas duplas\n",
        "\"\"\""
      ]
    },
    {
      "cell_type": "markdown",
      "source": [
        "### Ajuda em python"
      ],
      "metadata": {
        "id": "QznxOP2xAAPf"
      }
    },
    {
      "cell_type": "code",
      "source": [
        "nome_cientifico = \"Saccharum officinarum\""
      ],
      "metadata": {
        "id": "yTey4S9QAbYF"
      },
      "execution_count": null,
      "outputs": []
    },
    {
      "cell_type": "code",
      "source": [
        "help(type(nome_cientifico))"
      ],
      "metadata": {
        "id": "8jvnK8GjbQKb"
      },
      "execution_count": null,
      "outputs": []
    },
    {
      "cell_type": "markdown",
      "source": [
        "# Variáveis e nomeação de variáveis\n",
        "\n",
        "* Variáveis são espaços na memória que recebem um nome, onde podem ser armazenadas uma ou mais informações.\n",
        "* Como o nome indica, o conteúdo das \"variáveis\" varia.\n",
        "* Para atribuir um valor ou um elemento a uma variável utiliza-se o símbolo de atribuição em Python: \"=\""
      ],
      "metadata": {
        "id": "WjibvchDAby4"
      }
    },
    {
      "cell_type": "code",
      "source": [
        "primeira_variavel = 'I Workshop de Python para Dados de Biologia Vegetal'"
      ],
      "metadata": {
        "id": "tZ1wb6QJoLfb"
      },
      "execution_count": null,
      "outputs": []
    },
    {
      "cell_type": "markdown",
      "source": [
        "vendo o conteúdo de uma variável"
      ],
      "metadata": {
        "id": "AGkmW2Nv16gc"
      }
    },
    {
      "cell_type": "code",
      "source": [
        "primeira_variavel"
      ],
      "metadata": {
        "colab": {
          "base_uri": "https://localhost:8080/",
          "height": 35
        },
        "id": "Ukb0pGY414ML",
        "outputId": "ca06083b-541f-4002-beab-5fa3041bc304"
      },
      "execution_count": null,
      "outputs": [
        {
          "output_type": "execute_result",
          "data": {
            "text/plain": [
              "'I Workshop de Python para Dados de Biologia Vegetal'"
            ],
            "application/vnd.google.colaboratory.intrinsic+json": {
              "type": "string"
            }
          },
          "metadata": {},
          "execution_count": 19
        }
      ]
    },
    {
      "cell_type": "markdown",
      "source": [
        "### Nomeação de variáveis\n",
        "\n",
        "Há um documento bastante conhecido que apresenta as convenções para programação em Python chamado `PEP8` (vejam [aqui](https://www.python.org/dev/peps/pep-0008/)).\n",
        "\n",
        "Vamos seguir as seguintes convenções para nomeação de varíaveis:\n",
        " * todas as letras são minúsculas\n",
        " * os nomes de variáveis devem ser DESCRITIVOS (`genero_bacteria = Streptoccocus` é mais descritivo que `microbio = Streptoccocus` ou `a = Streptococcus`)\n",
        " * Se houver mais de uma palavra na composição do nome da variável, elas deverão ser separadas por `_ ` :"
      ],
      "metadata": {
        "id": "EKpGnbdR1KXR"
      }
    },
    {
      "cell_type": "code",
      "source": [
        "nome_do_workshop = 'I Workshop de Python para Dados de Biologia Vegetal'\n",
        "nome_do_workshop"
      ],
      "metadata": {
        "id": "lhXba7rv1_Jk"
      },
      "execution_count": null,
      "outputs": []
    },
    {
      "cell_type": "code",
      "source": [
        "# Nome possível, mas não segue as instruções do PEP8\n",
        "Familia = \"Brassicaceae\""
      ],
      "metadata": {
        "id": "0YInbJr56na2"
      },
      "execution_count": null,
      "outputs": []
    },
    {
      "cell_type": "code",
      "source": [
        "# Nome possível e seguindo o PEP8\n",
        "familia = \"Brassicaceae\""
      ],
      "metadata": {
        "id": "aRjdviF-7Hws"
      },
      "execution_count": null,
      "outputs": []
    },
    {
      "cell_type": "code",
      "source": [
        "# Nome possível e seguindo o PEP8\n",
        "familia_planta_modelo = \"Brassicaceae\""
      ],
      "metadata": {
        "id": "2tbsYhK47QBl"
      },
      "execution_count": null,
      "outputs": []
    },
    {
      "cell_type": "markdown",
      "source": [
        "Além disso, as os nomes das variáveis também devem:\n",
        "* começar com letras ou `_`\n",
        "* não apresentar simbolos que não sejam letras ou números\n",
        "* começar com letras\n",
        "\n",
        "e podem ter números e letras\n",
        "\n"
      ],
      "metadata": {
        "id": "2pS_hCPv5e9b"
      }
    },
    {
      "cell_type": "code",
      "source": [
        "# Se começar com outro simbolo, o código retorna um erro\n",
        "\n",
        "# 2variavel = \"erro\"\n",
        "# $variavel = \"erro\"\n",
        "\n",
        "\n",
        "# Se apresentar um símbolo que não é uma letra ou número\n",
        "\n",
        "# arroz&feijao = \"erro\n"
      ],
      "metadata": {
        "colab": {
          "base_uri": "https://localhost:8080/",
          "height": 35
        },
        "id": "UYuN4i7Z54jV",
        "outputId": "a8893939-8268-4600-f674-021d43aeef14"
      },
      "execution_count": null,
      "outputs": [
        {
          "output_type": "execute_result",
          "data": {
            "text/plain": [
              "'Brassicaceae'"
            ],
            "application/vnd.google.colaboratory.intrinsic+json": {
              "type": "string"
            }
          },
          "metadata": {},
          "execution_count": 32
        }
      ]
    },
    {
      "cell_type": "markdown",
      "source": [
        "### Tipos de variáveis\n",
        "\n",
        "As variáveis em Python sempre recebem um tipo (por isso se diz que variáveis em Python são \"tipadas\"), mas não é preciso declarar os tipos na hora de definir uma variável, pois o Interpretador de Python faz isso automaticamente.\n",
        "\n",
        "Os tipos de variáveis se dividem em variáveis simples e compostas. As variáveis simples são:\n",
        "1. **Inteiro (int):**\n",
        "2. **Ponto Flutuante ou Decimal (float)**\n",
        "3. **String (str)**\n",
        "4. **Boolean (bool)**\n",
        "\n",
        "E as variáveis compostas são:\n",
        "\n",
        "1. **Tuplas (tuple)**\n",
        "2. **Listas (list)**\n",
        "3. **Dicionários (dict)**\n",
        "\n",
        "💻 Para saber o tipo de uma variável se usa o código: `type(\"nome_da_variavel\")`"
      ],
      "metadata": {
        "id": "pQb6QDBto_LR"
      }
    },
    {
      "cell_type": "code",
      "source": [
        "# Para saber o tipo da variável\n",
        "primeira_variavel = 'I Workshop de Python para Dados de Biologia Vegetal'\n",
        "type(primeira_variavel)"
      ],
      "metadata": {
        "colab": {
          "base_uri": "https://localhost:8080/"
        },
        "id": "uZVL5Ld3q8ZC",
        "outputId": "4ee96011-abcf-42ab-d357-91fca9f58103"
      },
      "execution_count": null,
      "outputs": [
        {
          "output_type": "execute_result",
          "data": {
            "text/plain": [
              "str"
            ]
          },
          "metadata": {},
          "execution_count": 1
        }
      ]
    },
    {
      "cell_type": "markdown",
      "source": [
        "### Palavras reservadas\n",
        "\n",
        "Existem componentes da linguagem que já possuem um significado determinado e que não podem ser redefinidas, por isso os nomes desses componentes não podem ser usadas com outras finalidades (como para dar nomes às variáveis, por exemplo)\n",
        "\n",
        "Essas palavras são:\n",
        "\n",
        "* and\n",
        "* as\n",
        "* assert\n",
        "* break\n",
        "* class\n",
        "* continue\n",
        "* def\n",
        "* del\n",
        "* elif\n",
        "* else\n",
        "* except\n",
        "* False\n",
        "* True\n",
        "* finally\n",
        "* for\n",
        "* from\n",
        "* global\n",
        "* if\n",
        "* import\n",
        "* in\n",
        "* is\n",
        "* lambda\n",
        "* None\n",
        "* nonlocal\n",
        "* not\n",
        "* or\n",
        "* pass\n",
        "* raise\n",
        "* return\n",
        "* try\n",
        "* while\n",
        "* with\n",
        "* yield\n",
        "\n",
        "A lista é longa, mas nẽo é preciso decorá-la, as palavras reservadas normalmente ficam ressaltadas com uma coloração diferente, indicando que essas palavras tem um significado especial.\n"
      ],
      "metadata": {
        "id": "IfQRvNW8oMMp"
      }
    },
    {
      "cell_type": "code",
      "source": [
        "# class de classe é uma palavra com um significado biológico reservada em Python e que por isso não pode ser usada como nome de objetos\n",
        "# class = \"Dicotyledons\""
      ],
      "metadata": {
        "id": "5M4vS4WM93pu"
      },
      "execution_count": null,
      "outputs": []
    },
    {
      "cell_type": "markdown",
      "source": [
        "### Mutabilidade de variáveis\n",
        "\n",
        "As variáveis, variam."
      ],
      "metadata": {
        "id": "7A0NUqZjym8n"
      }
    },
    {
      "cell_type": "code",
      "source": [
        "a = 1"
      ],
      "metadata": {
        "id": "EF8sGRItyz3J"
      },
      "execution_count": null,
      "outputs": []
    },
    {
      "cell_type": "code",
      "source": [
        "b = a\n",
        "b"
      ],
      "metadata": {
        "colab": {
          "base_uri": "https://localhost:8080/"
        },
        "id": "yztHgVfGytyf",
        "outputId": "0ca06050-1cc7-4c93-ba85-b032c9f2e952"
      },
      "execution_count": null,
      "outputs": [
        {
          "output_type": "execute_result",
          "data": {
            "text/plain": [
              "1"
            ]
          },
          "metadata": {},
          "execution_count": 2
        }
      ]
    },
    {
      "cell_type": "code",
      "source": [
        "a = 2\n",
        "a"
      ],
      "metadata": {
        "colab": {
          "base_uri": "https://localhost:8080/"
        },
        "id": "UEEu_H2Vyz47",
        "outputId": "934d8889-22bf-4f40-fdcf-ea60860b81da"
      },
      "execution_count": null,
      "outputs": [
        {
          "output_type": "execute_result",
          "data": {
            "text/plain": [
              "2"
            ]
          },
          "metadata": {},
          "execution_count": 3
        }
      ]
    },
    {
      "cell_type": "code",
      "source": [
        "b"
      ],
      "metadata": {
        "colab": {
          "base_uri": "https://localhost:8080/"
        },
        "id": "a78IMKlTzf52",
        "outputId": "2dc6e1f7-3b6e-4d64-d8d1-ef5b5ac67dcb"
      },
      "execution_count": null,
      "outputs": [
        {
          "output_type": "execute_result",
          "data": {
            "text/plain": [
              "1"
            ]
          },
          "metadata": {},
          "execution_count": 4
        }
      ]
    },
    {
      "cell_type": "markdown",
      "source": [
        "# Strings\n",
        "\n",
        "Strings em python são uma sequência de caracteres em uma determinada ordem.\n",
        "\n",
        "Elas são usadas geralmente para representar palavras, frases e textos."
      ],
      "metadata": {
        "id": "4KepI2Ne-4Jq"
      }
    },
    {
      "cell_type": "code",
      "source": [
        "\"Arabidopsis thaliana\""
      ],
      "metadata": {
        "colab": {
          "base_uri": "https://localhost:8080/",
          "height": 35
        },
        "id": "3z0P8lsZB5as",
        "outputId": "e92c6578-bd94-4074-8ac3-2cd8e16a77c6"
      },
      "execution_count": null,
      "outputs": [
        {
          "output_type": "execute_result",
          "data": {
            "text/plain": [
              "'Arabidopsis thaliana'"
            ],
            "application/vnd.google.colaboratory.intrinsic+json": {
              "type": "string"
            }
          },
          "metadata": {},
          "execution_count": 2
        }
      ]
    },
    {
      "cell_type": "code",
      "source": [
        "planta_modelo = 'Arabidopsis thaliana'"
      ],
      "metadata": {
        "id": "tdQCEsEH_JQS"
      },
      "execution_count": null,
      "outputs": []
    },
    {
      "cell_type": "code",
      "source": [
        "planta_modelo"
      ],
      "metadata": {
        "colab": {
          "base_uri": "https://localhost:8080/",
          "height": 35
        },
        "id": "u6DGc5VLB6L5",
        "outputId": "03251b97-aee6-4051-b9e9-17450996ab6f"
      },
      "execution_count": null,
      "outputs": [
        {
          "output_type": "execute_result",
          "data": {
            "text/plain": [
              "'Arabidopsis thaliana'"
            ],
            "application/vnd.google.colaboratory.intrinsic+json": {
              "type": "string"
            }
          },
          "metadata": {},
          "execution_count": 8
        }
      ]
    },
    {
      "cell_type": "markdown",
      "source": [
        "Strings também aceitam números, mas eles são interpretados como texto"
      ],
      "metadata": {
        "id": "a1WvuBD2Cle8"
      }
    },
    {
      "cell_type": "code",
      "source": [
        "altura_planta = \"19\""
      ],
      "metadata": {
        "id": "FWJQA73__cm4"
      },
      "execution_count": null,
      "outputs": []
    },
    {
      "cell_type": "code",
      "source": [
        "altura_planta"
      ],
      "metadata": {
        "colab": {
          "base_uri": "https://localhost:8080/",
          "height": 35
        },
        "id": "p9emJCR6Culk",
        "outputId": "7da44833-dbda-4789-e999-3c68bcb83cc4"
      },
      "execution_count": null,
      "outputs": [
        {
          "output_type": "execute_result",
          "data": {
            "text/plain": [
              "'19'"
            ],
            "application/vnd.google.colaboratory.intrinsic+json": {
              "type": "string"
            }
          },
          "metadata": {},
          "execution_count": 10
        }
      ]
    },
    {
      "cell_type": "code",
      "source": [
        "a = \"10\"\n",
        "b = \"15\"\n",
        "\n",
        "a + b"
      ],
      "metadata": {
        "colab": {
          "base_uri": "https://localhost:8080/",
          "height": 35
        },
        "id": "LKuC43_z_qgW",
        "outputId": "ac9b3611-d290-49f4-9864-99d209016d40"
      },
      "execution_count": null,
      "outputs": [
        {
          "output_type": "execute_result",
          "data": {
            "text/plain": [
              "'1015'"
            ],
            "application/vnd.google.colaboratory.intrinsic+json": {
              "type": "string"
            }
          },
          "metadata": {},
          "execution_count": 11
        }
      ]
    },
    {
      "cell_type": "markdown",
      "source": [
        "### Manipulando textos\n",
        "\n",
        "Cada caractere em uma string recebe um índice (index) começando em 0 e indo até o último caractere. Por exemplo, a string `\"Arabidopsis thaliana\"` tem comprimento de 20, como pode ser obtido pela função `len()`, então os índices vão de 0-19, sendo 0 a primeira letra e 19 a última.\n",
        "\n",
        "💭 Então, se as variáveis são espaços na memória, os caracteres seriam micro-espaços na memória que recebem valores de 0 até`(len()-1)`"
      ],
      "metadata": {
        "id": "XHJxIx3G_w68"
      }
    },
    {
      "cell_type": "code",
      "source": [
        "planta_modelo = \"Arabidopsis thaliana\""
      ],
      "metadata": {
        "colab": {
          "base_uri": "https://localhost:8080/",
          "height": 35
        },
        "id": "TuzhNq5dAbIz",
        "outputId": "eab04523-d72c-4793-d64d-a4dfeb2ffd08"
      },
      "execution_count": null,
      "outputs": [
        {
          "output_type": "execute_result",
          "data": {
            "text/plain": [
              "'r'"
            ],
            "application/vnd.google.colaboratory.intrinsic+json": {
              "type": "string"
            }
          },
          "metadata": {},
          "execution_count": 37
        }
      ]
    },
    {
      "cell_type": "code",
      "source": [
        "len(planta_modelo)"
      ],
      "metadata": {
        "colab": {
          "base_uri": "https://localhost:8080/"
        },
        "id": "Rr__CY6bAyOO",
        "outputId": "1db1ecd7-afae-4996-813d-97f5afcecb1e"
      },
      "execution_count": null,
      "outputs": [
        {
          "output_type": "execute_result",
          "data": {
            "text/plain": [
              "20"
            ]
          },
          "metadata": {},
          "execution_count": 38
        }
      ]
    },
    {
      "cell_type": "code",
      "source": [
        "print(planta_modelo[0]) # Primeiro caractere\n",
        "print(planta_modelo[19]) # último caractere"
      ],
      "metadata": {
        "colab": {
          "base_uri": "https://localhost:8080/"
        },
        "id": "MukyNPeyAgG8",
        "outputId": "acf69a3f-3867-4c8c-d19f-633ce48cf8a4"
      },
      "execution_count": null,
      "outputs": [
        {
          "output_type": "stream",
          "name": "stdout",
          "text": [
            "A\n",
            "a\n"
          ]
        }
      ]
    },
    {
      "cell_type": "code",
      "source": [
        "ultimo_caractere = len(planta_modelo)-1\n",
        "planta_modelo[ultimo_caractere]"
      ],
      "metadata": {
        "colab": {
          "base_uri": "https://localhost:8080/",
          "height": 35
        },
        "id": "7VUBPoLNCVEP",
        "outputId": "0d33b95b-d92c-4c62-fa80-3f0f8e1c6ea2"
      },
      "execution_count": null,
      "outputs": [
        {
          "output_type": "execute_result",
          "data": {
            "text/plain": [
              "'a'"
            ],
            "application/vnd.google.colaboratory.intrinsic+json": {
              "type": "string"
            }
          },
          "metadata": {},
          "execution_count": 41
        }
      ]
    },
    {
      "cell_type": "markdown",
      "source": [
        "Outra maneira de representar o último caractere é usar os índices negativos, neles o último caractere recebe index `-1` e vai diminuindo até chegar na primeira letra. Então para a string `\"Arabidopsis thaliana\"`, o último caractere recebe index -1 e o primeiro -20."
      ],
      "metadata": {
        "id": "x1E6I7BkBIc4"
      }
    },
    {
      "cell_type": "code",
      "source": [
        "planta_modelo = \"Arabidopsis thaliana\""
      ],
      "metadata": {
        "id": "aC6tR_N5BHud"
      },
      "execution_count": null,
      "outputs": []
    },
    {
      "cell_type": "code",
      "source": [
        "print(planta_modelo[-20]) # Primeiro caractere\n",
        "print(planta_modelo[-1]) # último caractere"
      ],
      "metadata": {
        "colab": {
          "base_uri": "https://localhost:8080/"
        },
        "id": "09i2DdYgBiM2",
        "outputId": "1e2b9486-e1a1-4a9d-b612-bc774bc370ae"
      },
      "execution_count": null,
      "outputs": [
        {
          "output_type": "stream",
          "name": "stdout",
          "text": [
            "A\n",
            "a\n"
          ]
        }
      ]
    },
    {
      "cell_type": "markdown",
      "source": [
        "**Fatiamento**\n",
        "- Esse processo de pegar um caractere dentro da string também pode ser conhecido como \"fatiamento\", entretanto o fatiamento não para ai: Além de pegar um caractere, ele também pode ser usado para pegar partes da string usando intervalos dentro dos []\n",
        "\n",
        "- Em Python intervalos (range) contínuos são representados pelo número do começo e do final separados por dois pontos :. Entretanto, vale lembrar que em Python o valor final é excludente, ou seja, não entra no intervalo.\n",
        "\n",
        "*Exemplo:*  `3:6 == [3, 4, 5]`, repare que o 6 não entra no intervalo."
      ],
      "metadata": {
        "id": "vbNa4k8F-4TN"
      }
    },
    {
      "cell_type": "code",
      "source": [
        "planta_modelo = \"Arabidopsis thaliana\""
      ],
      "metadata": {
        "colab": {
          "base_uri": "https://localhost:8080/"
        },
        "id": "6n2xqJbnMM57",
        "outputId": "41c91cb6-2a43-4998-ab6c-2117d71c9af5"
      },
      "execution_count": null,
      "outputs": [
        {
          "output_type": "execute_result",
          "data": {
            "text/plain": [
              "20"
            ]
          },
          "metadata": {},
          "execution_count": 48
        }
      ]
    },
    {
      "cell_type": "code",
      "source": [
        "planta_modelo[1:2]"
      ],
      "metadata": {
        "colab": {
          "base_uri": "https://localhost:8080/",
          "height": 35
        },
        "id": "-NDsY3miMxaZ",
        "outputId": "e670f87c-bfdf-43fa-b5d7-22c8b0d61453"
      },
      "execution_count": null,
      "outputs": [
        {
          "output_type": "execute_result",
          "data": {
            "text/plain": [
              "'r'"
            ],
            "application/vnd.google.colaboratory.intrinsic+json": {
              "type": "string"
            }
          },
          "metadata": {},
          "execution_count": 47
        }
      ]
    },
    {
      "cell_type": "code",
      "source": [
        "planta_modelo[10:15]"
      ],
      "metadata": {
        "colab": {
          "base_uri": "https://localhost:8080/",
          "height": 35
        },
        "id": "U5MZqORyMrv9",
        "outputId": "6c88a54e-b77a-4721-dccc-e81b4c526346"
      },
      "execution_count": null,
      "outputs": [
        {
          "output_type": "execute_result",
          "data": {
            "text/plain": [
              "'s tha'"
            ],
            "application/vnd.google.colaboratory.intrinsic+json": {
              "type": "string"
            }
          },
          "metadata": {},
          "execution_count": 46
        }
      ]
    },
    {
      "cell_type": "code",
      "source": [
        "planta_modelo[0:11]"
      ],
      "metadata": {
        "id": "ckPCtKNUMrPz"
      },
      "execution_count": null,
      "outputs": []
    },
    {
      "cell_type": "code",
      "source": [
        "planta_modelo[0:20]"
      ],
      "metadata": {
        "colab": {
          "base_uri": "https://localhost:8080/",
          "height": 35
        },
        "id": "htSlW5IDM9cn",
        "outputId": "a1701b50-2a42-43ee-a46f-4150b81d7823"
      },
      "execution_count": null,
      "outputs": [
        {
          "output_type": "execute_result",
          "data": {
            "text/plain": [
              "'Arabidopsis thaliana'"
            ],
            "application/vnd.google.colaboratory.intrinsic+json": {
              "type": "string"
            }
          },
          "metadata": {},
          "execution_count": 49
        }
      ]
    },
    {
      "cell_type": "markdown",
      "source": [
        "No último exemplo o range começou no primeiro caractere e terminou no último, ou seja, pegou a string inteira, mas como os valores das variáveis pode mudar, se o novo valor possuir um tamanho diferente, essa seleção vai falhar:"
      ],
      "metadata": {
        "id": "fPrkLQ-tNEMY"
      }
    },
    {
      "cell_type": "code",
      "source": [
        "planta_modelo = \"Arabidopsis thaliana\"\n",
        "planta_modelo[0:20]"
      ],
      "metadata": {
        "colab": {
          "base_uri": "https://localhost:8080/",
          "height": 35
        },
        "id": "RbBkJMcYNaYa",
        "outputId": "7054efca-25cc-4d2d-c779-d658342cf7e5"
      },
      "execution_count": null,
      "outputs": [
        {
          "output_type": "execute_result",
          "data": {
            "text/plain": [
              "'Arabidopsis thaliana'"
            ],
            "application/vnd.google.colaboratory.intrinsic+json": {
              "type": "string"
            }
          },
          "metadata": {},
          "execution_count": 50
        }
      ]
    },
    {
      "cell_type": "code",
      "source": [
        "planta_modelo = \"Saccharum officinarum\"\n",
        "planta_modelo[0:20] # Fica faltando o último \"m\""
      ],
      "metadata": {
        "colab": {
          "base_uri": "https://localhost:8080/",
          "height": 35
        },
        "id": "LI9C7jcHNdOB",
        "outputId": "71976d41-f99b-4fdc-f331-0a0f964ac0ba"
      },
      "execution_count": null,
      "outputs": [
        {
          "output_type": "execute_result",
          "data": {
            "text/plain": [
              "'Saccharum officinaru'"
            ],
            "application/vnd.google.colaboratory.intrinsic+json": {
              "type": "string"
            }
          },
          "metadata": {},
          "execution_count": 52
        }
      ]
    },
    {
      "cell_type": "markdown",
      "source": [
        "Para evitar esse erro, uma maneira de selecionar toda a string sem informar um intervalo deinido é deixar apenas os dois pontos : como range, isso significa vai do começo `__: `até o final `:__`.\n",
        "\n",
        "Consequentemente, se quiser pegar um intervalo de começe em alguma parte da string e vá até o final basta indicar a posição de início e não informar o final (O mesmo vale para o oposto, se quiser começar no início e ir até certo ponto basta usar `__:n`para n o index da posição final)."
      ],
      "metadata": {
        "id": "G5jw2VKEOFWb"
      }
    },
    {
      "cell_type": "code",
      "source": [
        "planta_modelo = \"Arabidopsis thaliana\"\n",
        "planta_modelo[:]"
      ],
      "metadata": {
        "colab": {
          "base_uri": "https://localhost:8080/",
          "height": 35
        },
        "id": "FnZr1nGrO3ut",
        "outputId": "ac2d9bfa-02f2-446c-c2c8-c1ae6be1f69b"
      },
      "execution_count": null,
      "outputs": [
        {
          "output_type": "execute_result",
          "data": {
            "text/plain": [
              "'Arabidopsis thaliana'"
            ],
            "application/vnd.google.colaboratory.intrinsic+json": {
              "type": "string"
            }
          },
          "metadata": {},
          "execution_count": 53
        }
      ]
    },
    {
      "cell_type": "code",
      "source": [
        "planta_modelo = \"Saccharum officinarum\"\n",
        "planta_modelo[:]"
      ],
      "metadata": {
        "colab": {
          "base_uri": "https://localhost:8080/",
          "height": 35
        },
        "id": "f6emGljyO8lc",
        "outputId": "2c0edca7-7779-4e0b-a4d5-801667e96e21"
      },
      "execution_count": null,
      "outputs": [
        {
          "output_type": "execute_result",
          "data": {
            "text/plain": [
              "'Saccharum officinarum'"
            ],
            "application/vnd.google.colaboratory.intrinsic+json": {
              "type": "string"
            }
          },
          "metadata": {},
          "execution_count": 54
        }
      ]
    },
    {
      "cell_type": "code",
      "source": [
        "planta_modelo[10:]"
      ],
      "metadata": {
        "colab": {
          "base_uri": "https://localhost:8080/",
          "height": 35
        },
        "id": "zuOYYmw_O_uq",
        "outputId": "e0604824-7d33-4c03-e41b-1beb102e6f8e"
      },
      "execution_count": null,
      "outputs": [
        {
          "output_type": "execute_result",
          "data": {
            "text/plain": [
              "'officinarum'"
            ],
            "application/vnd.google.colaboratory.intrinsic+json": {
              "type": "string"
            }
          },
          "metadata": {},
          "execution_count": 55
        }
      ]
    },
    {
      "cell_type": "code",
      "source": [
        "planta_modelo[:4]"
      ],
      "metadata": {
        "colab": {
          "base_uri": "https://localhost:8080/",
          "height": 35
        },
        "id": "zRsIjRL2PD0i",
        "outputId": "a3eea4c5-cdc5-4f22-e1d2-99a26dda713a"
      },
      "execution_count": null,
      "outputs": [
        {
          "output_type": "execute_result",
          "data": {
            "text/plain": [
              "'Sacc'"
            ],
            "application/vnd.google.colaboratory.intrinsic+json": {
              "type": "string"
            }
          },
          "metadata": {},
          "execution_count": 58
        }
      ]
    },
    {
      "cell_type": "markdown",
      "source": [
        "**Análise da string**\n",
        "\n",
        "Algumas funções que permitem fazer a análise das strings são:\n",
        "* `len(variavel)`: Que retorna a quantidade dde caracteres começando a contar em 1.\n",
        "* `variavel.count(\"elemento\")`: Que conta a quantidade de vezes que o elemento apareceu na variável, fazendo a distinção de maiúsculas e minúsculas.\n",
        "* `variavel.find(\"elemento\")`: Que retorna o index em que o elemento iniciou\n",
        "* `\"Elemento\" in variavel`: Que retorna um True (se o elemento estiver na variável) ou Falso (se o elemento não tiver na variável)"
      ],
      "metadata": {
        "id": "ZgpAs49fPPCZ"
      }
    },
    {
      "cell_type": "code",
      "source": [
        "planta_modelo = \"Arabidopsis thaliana\""
      ],
      "metadata": {
        "id": "KS8w5IurPOPc"
      },
      "execution_count": null,
      "outputs": []
    },
    {
      "cell_type": "code",
      "source": [
        "len(planta_modelo)"
      ],
      "metadata": {
        "colab": {
          "base_uri": "https://localhost:8080/"
        },
        "id": "wuZQf2UiQdft",
        "outputId": "81febffc-0cdc-465f-9ea8-30a2744063cf"
      },
      "execution_count": null,
      "outputs": [
        {
          "output_type": "execute_result",
          "data": {
            "text/plain": [
              "20"
            ]
          },
          "metadata": {},
          "execution_count": 60
        }
      ]
    },
    {
      "cell_type": "code",
      "source": [
        "planta_modelo.count(\"s\")"
      ],
      "metadata": {
        "colab": {
          "base_uri": "https://localhost:8080/"
        },
        "id": "dxN-5GocQiM9",
        "outputId": "f76516ed-a16c-4f96-875e-ae3deaca4100"
      },
      "execution_count": null,
      "outputs": [
        {
          "output_type": "execute_result",
          "data": {
            "text/plain": [
              "2"
            ]
          },
          "metadata": {},
          "execution_count": 61
        }
      ]
    },
    {
      "cell_type": "code",
      "source": [
        "# Se depois do elemento colocar um intervalo separado por vígula na função .count ele conta apenas em um intervalo\n",
        "planta_modelo.count(\"s\", 0, 5) # 0:5 = Arabi"
      ],
      "metadata": {
        "colab": {
          "base_uri": "https://localhost:8080/"
        },
        "id": "mBb_gkXMQmFp",
        "outputId": "d108903f-1bef-4f01-8370-5933c8a032b6"
      },
      "execution_count": null,
      "outputs": [
        {
          "output_type": "execute_result",
          "data": {
            "text/plain": [
              "0"
            ]
          },
          "metadata": {},
          "execution_count": 62
        }
      ]
    },
    {
      "cell_type": "code",
      "source": [
        "planta_modelo.find(\"psis\")"
      ],
      "metadata": {
        "colab": {
          "base_uri": "https://localhost:8080/"
        },
        "id": "TF2fryPFQ6fS",
        "outputId": "32d1727b-bee4-43db-bc42-576664b92938"
      },
      "execution_count": null,
      "outputs": [
        {
          "output_type": "execute_result",
          "data": {
            "text/plain": [
              "7"
            ]
          },
          "metadata": {},
          "execution_count": 63
        }
      ]
    },
    {
      "cell_type": "code",
      "source": [
        "# Se o find retornar \"-1\", significa que o elemento não está na string\n",
        "planta_modelo.find(\"Fruto\")"
      ],
      "metadata": {
        "colab": {
          "base_uri": "https://localhost:8080/"
        },
        "id": "kEW9LzGXRVs2",
        "outputId": "b62cd40a-ce10-437b-f641-dbbac826a689"
      },
      "execution_count": null,
      "outputs": [
        {
          "output_type": "execute_result",
          "data": {
            "text/plain": [
              "-1"
            ]
          },
          "metadata": {},
          "execution_count": 64
        }
      ]
    },
    {
      "cell_type": "code",
      "source": [
        "\"psis\" in planta_modelo"
      ],
      "metadata": {
        "colab": {
          "base_uri": "https://localhost:8080/"
        },
        "id": "0Opcs99ARVv0",
        "outputId": "0e1527da-71a5-4b62-ec30-13db20e05d20"
      },
      "execution_count": null,
      "outputs": [
        {
          "output_type": "execute_result",
          "data": {
            "text/plain": [
              "True"
            ]
          },
          "metadata": {},
          "execution_count": 65
        }
      ]
    },
    {
      "cell_type": "code",
      "source": [
        "\"Fruto\" in planta_modelo"
      ],
      "metadata": {
        "colab": {
          "base_uri": "https://localhost:8080/"
        },
        "id": "9PfXTdIjR4jG",
        "outputId": "5b672ab3-07aa-4c6e-b920-ce56b209af2d"
      },
      "execution_count": null,
      "outputs": [
        {
          "output_type": "execute_result",
          "data": {
            "text/plain": [
              "False"
            ]
          },
          "metadata": {},
          "execution_count": 66
        }
      ]
    },
    {
      "cell_type": "markdown",
      "source": [
        "**Transformação da string**\n",
        "\n",
        "Elementos e caracteres nas strings podem ser alterados com o uso de:\n",
        "\n",
        "* ` variavel.replace(\"elemento\", \"novo_elemento\")`: Em que troca todos os valores \"elemento\" na variavel por \"novo_elemento\", mas sem mudar o valor da variável diretamente.\n"
      ],
      "metadata": {
        "id": "2F5_tL-wSDbq"
      }
    },
    {
      "cell_type": "code",
      "source": [
        "planta_modelo.replace('thaliana', 'arenosa')\n",
        "planta_modelo"
      ],
      "metadata": {
        "colab": {
          "base_uri": "https://localhost:8080/",
          "height": 35
        },
        "id": "fZrMWFODTX6o",
        "outputId": "f5a44063-1fbd-4031-eac3-a21fd665b4be"
      },
      "execution_count": null,
      "outputs": [
        {
          "output_type": "execute_result",
          "data": {
            "text/plain": [
              "'Arabidopsis thaliana'"
            ],
            "application/vnd.google.colaboratory.intrinsic+json": {
              "type": "string"
            }
          },
          "metadata": {},
          "execution_count": 73
        }
      ]
    },
    {
      "cell_type": "code",
      "source": [
        "print(planta_modelo.replace('thaliana', 'arenosa'))"
      ],
      "metadata": {
        "colab": {
          "base_uri": "https://localhost:8080/"
        },
        "id": "qVaWhDBdSiAS",
        "outputId": "5d07a966-18b1-4470-f0f6-3e147dcb2d37"
      },
      "execution_count": null,
      "outputs": [
        {
          "output_type": "stream",
          "name": "stdout",
          "text": [
            "Arabidopsis arenosa\n"
          ]
        }
      ]
    },
    {
      "cell_type": "code",
      "source": [
        "planta_modelo = planta_modelo.replace('thaliana', 'arenosa')\n",
        "planta_modelo"
      ],
      "metadata": {
        "colab": {
          "base_uri": "https://localhost:8080/",
          "height": 35
        },
        "id": "T4unTV2cTVow",
        "outputId": "7cf2f2f7-0f94-4be6-9010-55c832fa8401"
      },
      "execution_count": null,
      "outputs": [
        {
          "output_type": "execute_result",
          "data": {
            "text/plain": [
              "'Arabidopsis arenosa'"
            ],
            "application/vnd.google.colaboratory.intrinsic+json": {
              "type": "string"
            }
          },
          "metadata": {},
          "execution_count": 75
        }
      ]
    },
    {
      "cell_type": "markdown",
      "source": [
        "* `.upper()` e `.lower()`: Deixa toda a string com letra maiúscula ou minúscula, respectivamente.\n",
        "* `.capitalize()` e `.title()`: Que deixa a primeira letra da string maiúscula e deixa as primeiras letras de todas as palavras em maiúscula, respectivamente\n"
      ],
      "metadata": {
        "id": "MaZtGI00W0hJ"
      }
    },
    {
      "cell_type": "code",
      "source": [
        "planta_modelo.upper()"
      ],
      "metadata": {
        "colab": {
          "base_uri": "https://localhost:8080/",
          "height": 35
        },
        "id": "G_K53q4HT5Vn",
        "outputId": "d49aac9d-942c-418e-f0d8-93ab7a4ca03a"
      },
      "execution_count": null,
      "outputs": [
        {
          "output_type": "execute_result",
          "data": {
            "text/plain": [
              "'ARABIDOPSIS ARENOSA'"
            ],
            "application/vnd.google.colaboratory.intrinsic+json": {
              "type": "string"
            }
          },
          "metadata": {},
          "execution_count": 76
        }
      ]
    },
    {
      "cell_type": "code",
      "source": [
        "planta_modelo.lower()"
      ],
      "metadata": {
        "colab": {
          "base_uri": "https://localhost:8080/",
          "height": 35
        },
        "id": "5pmMbqjwT9x0",
        "outputId": "0fec21aa-0c80-4ae3-9fb0-450bcbdd4eb4"
      },
      "execution_count": null,
      "outputs": [
        {
          "output_type": "execute_result",
          "data": {
            "text/plain": [
              "'arabidopsis arenosa'"
            ],
            "application/vnd.google.colaboratory.intrinsic+json": {
              "type": "string"
            }
          },
          "metadata": {},
          "execution_count": 77
        }
      ]
    },
    {
      "cell_type": "code",
      "source": [
        "planta_modelo.capitalize() # bom para nome de espécie"
      ],
      "metadata": {
        "colab": {
          "base_uri": "https://localhost:8080/",
          "height": 35
        },
        "id": "8n27Wm4FVYhL",
        "outputId": "73ebf0d3-cc73-474e-ee57-2bb00e861c4d"
      },
      "execution_count": null,
      "outputs": [
        {
          "output_type": "execute_result",
          "data": {
            "text/plain": [
              "'Arabidopsis arenosa'"
            ],
            "application/vnd.google.colaboratory.intrinsic+json": {
              "type": "string"
            }
          },
          "metadata": {},
          "execution_count": 80
        }
      ]
    },
    {
      "cell_type": "code",
      "source": [
        "planta_modelo.title()"
      ],
      "metadata": {
        "colab": {
          "base_uri": "https://localhost:8080/",
          "height": 35
        },
        "id": "mZlS0d8UVa_j",
        "outputId": "9723afab-fee9-42bd-b8ee-516ca3a03a7a"
      },
      "execution_count": null,
      "outputs": [
        {
          "output_type": "execute_result",
          "data": {
            "text/plain": [
              "'Arabidopsis Arenosa'"
            ],
            "application/vnd.google.colaboratory.intrinsic+json": {
              "type": "string"
            }
          },
          "metadata": {},
          "execution_count": 81
        }
      ]
    },
    {
      "cell_type": "markdown",
      "source": [
        "* `.strip()`, `.lstrip()` e `.rstrip()`: Retira todos os espaços do começo e final das strings, retira espaços da esquerda (left - começo) e retira espaços da direita (right - final) da string, respectivamente"
      ],
      "metadata": {
        "id": "JeH16-fmW4es"
      }
    },
    {
      "cell_type": "code",
      "source": [
        "planta_modelo = \"      Arabidopsis thaliana     \"\n"
      ],
      "metadata": {
        "id": "1P3wrIP8WDot"
      },
      "execution_count": null,
      "outputs": []
    },
    {
      "cell_type": "code",
      "source": [
        "planta_modelo.strip()"
      ],
      "metadata": {
        "colab": {
          "base_uri": "https://localhost:8080/",
          "height": 35
        },
        "id": "cXsjM3KlWMNZ",
        "outputId": "aaa17882-2e0c-4e6f-a420-434af5402285"
      },
      "execution_count": null,
      "outputs": [
        {
          "output_type": "execute_result",
          "data": {
            "text/plain": [
              "'Arabidopsis thaliana'"
            ],
            "application/vnd.google.colaboratory.intrinsic+json": {
              "type": "string"
            }
          },
          "metadata": {},
          "execution_count": 84
        }
      ]
    },
    {
      "cell_type": "code",
      "source": [
        "planta_modelo.lstrip()"
      ],
      "metadata": {
        "colab": {
          "base_uri": "https://localhost:8080/",
          "height": 35
        },
        "id": "_5p6OQR5WQAd",
        "outputId": "dd8f0a2e-7d95-4ee8-fa24-45f577048ec9"
      },
      "execution_count": null,
      "outputs": [
        {
          "output_type": "execute_result",
          "data": {
            "text/plain": [
              "'Arabidopsis thaliana     '"
            ],
            "application/vnd.google.colaboratory.intrinsic+json": {
              "type": "string"
            }
          },
          "metadata": {},
          "execution_count": 85
        }
      ]
    },
    {
      "cell_type": "code",
      "source": [
        "planta_modelo.rstrip()"
      ],
      "metadata": {
        "colab": {
          "base_uri": "https://localhost:8080/",
          "height": 35
        },
        "id": "vWnrvNtRWTNx",
        "outputId": "e64bd2d3-dea9-47e8-b34b-c718d5d57d2f"
      },
      "execution_count": null,
      "outputs": [
        {
          "output_type": "execute_result",
          "data": {
            "text/plain": [
              "'      Arabidopsis thaliana'"
            ],
            "application/vnd.google.colaboratory.intrinsic+json": {
              "type": "string"
            }
          },
          "metadata": {},
          "execution_count": 86
        }
      ]
    },
    {
      "cell_type": "markdown",
      "source": [
        "**Divisão da string**\n",
        "\n",
        "As strings podem ser divididas com o uso de:\n",
        "\n",
        "* `.split()`: Que divide as strings nos simbolos apresentado dentro dos (), se não tiver nenhum símbolo, ele usa os espaços como padrão\n"
      ],
      "metadata": {
        "id": "X6kmRMfSXP8u"
      }
    },
    {
      "cell_type": "code",
      "source": [
        "planta_modelo = \"Arabidopsis thaliana\"\n"
      ],
      "metadata": {
        "id": "Q2quZcXTXXFc"
      },
      "execution_count": null,
      "outputs": []
    },
    {
      "cell_type": "code",
      "source": [
        "planta_modelo_separada = planta_modelo.split()\n",
        "planta_modelo_separada"
      ],
      "metadata": {
        "colab": {
          "base_uri": "https://localhost:8080/"
        },
        "id": "I5GPeraVXsrj",
        "outputId": "3c803dd8-1fe6-4792-82ef-3b08ea048d7f"
      },
      "execution_count": null,
      "outputs": [
        {
          "output_type": "execute_result",
          "data": {
            "text/plain": [
              "['Arabidopsis', 'thaliana']"
            ]
          },
          "metadata": {},
          "execution_count": 88
        }
      ]
    },
    {
      "cell_type": "markdown",
      "source": [
        "**Junção da string**\n",
        "\n",
        "As strings podem ser unidas com o uso de:\n",
        "\n",
        "* `separador.join(variavel)`: Que une strings da variável separadas usando o separador indicado\n"
      ],
      "metadata": {
        "id": "lqQBE82yYQk5"
      }
    },
    {
      "cell_type": "code",
      "source": [
        "'-'.join(planta_modelo_separada )"
      ],
      "metadata": {
        "colab": {
          "base_uri": "https://localhost:8080/",
          "height": 35
        },
        "id": "_Etz2hKOYJqf",
        "outputId": "4815d5dd-6b46-454b-d13c-8340f6d76ab6"
      },
      "execution_count": null,
      "outputs": [
        {
          "output_type": "execute_result",
          "data": {
            "text/plain": [
              "'Arabidopsis-thaliana'"
            ],
            "application/vnd.google.colaboratory.intrinsic+json": {
              "type": "string"
            }
          },
          "metadata": {},
          "execution_count": 89
        }
      ]
    },
    {
      "cell_type": "markdown",
      "source": [
        "# Inteiros e float\n",
        "\n",
        "**Inteiros** são números (algarismos) positivos e negativos sem decimais, se referindo ao conjunto dos números inteiros (`ℤ = {..., - 3, - 2, - 1, 0, 1, 2, 3,...}`)\n",
        "\n",
        "**Float** são números (algarismos) positivos e negativos com decimais.\n"
      ],
      "metadata": {
        "id": "0sdHq-2DZCLN"
      }
    },
    {
      "cell_type": "code",
      "source": [
        "variavel_inteiro = 1\n",
        "variavel_inteiro"
      ],
      "metadata": {
        "colab": {
          "base_uri": "https://localhost:8080/"
        },
        "id": "YBNQBWXOaOWC",
        "outputId": "5244a4d9-8f68-4c36-f834-425f19e941f9"
      },
      "execution_count": null,
      "outputs": [
        {
          "output_type": "execute_result",
          "data": {
            "text/plain": [
              "1"
            ]
          },
          "metadata": {},
          "execution_count": 90
        }
      ]
    },
    {
      "cell_type": "code",
      "source": [
        "variavel_float = 1.7\n",
        "variavel_float"
      ],
      "metadata": {
        "colab": {
          "base_uri": "https://localhost:8080/"
        },
        "id": "eZyKzSpUab3s",
        "outputId": "ba38b89f-2cd3-49c1-f60c-1943dcdae5ba"
      },
      "execution_count": null,
      "outputs": [
        {
          "output_type": "execute_result",
          "data": {
            "text/plain": [
              "1.7"
            ]
          },
          "metadata": {},
          "execution_count": 93
        }
      ]
    },
    {
      "cell_type": "code",
      "source": [
        "# Em Python qualquer valor indicado com . é float, mesmo que ele seja inteiro\n",
        "variavel_float = 1.0\n",
        "variavel_float"
      ],
      "metadata": {
        "colab": {
          "base_uri": "https://localhost:8080/"
        },
        "id": "VnBUMbpSamPS",
        "outputId": "03848d6c-7d92-40be-bbdf-5f831ec421df"
      },
      "execution_count": null,
      "outputs": [
        {
          "output_type": "execute_result",
          "data": {
            "text/plain": [
              "1.0"
            ]
          },
          "metadata": {},
          "execution_count": 94
        }
      ]
    },
    {
      "cell_type": "markdown",
      "source": [
        "Por serem variáveis numéricas, os inteiros e os float podem ser usados em contas e cálculos dentro de Python, para isso são necessários os operadores e a ordem de procedência."
      ],
      "metadata": {
        "id": "iszJIjRoa0H9"
      }
    },
    {
      "cell_type": "markdown",
      "source": [
        "# Operadores\n",
        "\n",
        "Os operadores em python são:\n",
        "\n",
        "1. operadores aritiméticos;\n",
        "2. operadores de atribuição;\n",
        "3. operadores de comparação;\n",
        "4. operadores lógicos;\n",
        "5. operadores de identidade; e\n",
        "6. operadores de associação.\n"
      ],
      "metadata": {
        "id": "WgVahpdAbH5g"
      }
    },
    {
      "cell_type": "markdown",
      "source": [
        "### Operadores aririméticos\n",
        "\n",
        "* `+`: Operador de adição e de indicação de valor positivo\n",
        "* `-`: Operador de subtração e de indicação de valor negativo\n",
        "* `*`: Operador de multiplicação\n",
        "* `/`: Operador de divisão\n",
        "* `//`: Operador de divisão inteira, aquela que retorna apenas a parte inteira da divisão, ignorando os decimais\n",
        "* `%`: Operador de módulo, aquele que retorna o resto da divisão\n",
        "* `**`: Operador de exponenciação"
      ],
      "metadata": {
        "id": "RVfYDz6vcWLG"
      }
    },
    {
      "cell_type": "code",
      "source": [
        "10+3"
      ],
      "metadata": {
        "colab": {
          "base_uri": "https://localhost:8080/"
        },
        "id": "47peMrFEdtaA",
        "outputId": "4d4b2592-eca8-4b83-c001-9195b4583f20"
      },
      "execution_count": null,
      "outputs": [
        {
          "output_type": "execute_result",
          "data": {
            "text/plain": [
              "13"
            ]
          },
          "metadata": {},
          "execution_count": 101
        }
      ]
    },
    {
      "cell_type": "code",
      "source": [
        "10-3"
      ],
      "metadata": {
        "colab": {
          "base_uri": "https://localhost:8080/"
        },
        "id": "zQ0a-djldxrs",
        "outputId": "3359be24-86b9-46d0-95a9-1f4f14ef81d2"
      },
      "execution_count": null,
      "outputs": [
        {
          "output_type": "execute_result",
          "data": {
            "text/plain": [
              "7"
            ]
          },
          "metadata": {},
          "execution_count": 102
        }
      ]
    },
    {
      "cell_type": "code",
      "source": [
        "10*3"
      ],
      "metadata": {
        "colab": {
          "base_uri": "https://localhost:8080/"
        },
        "id": "7Yhbj-UFdy37",
        "outputId": "cb61c130-e8b4-42ca-940a-5913c0e023d0"
      },
      "execution_count": null,
      "outputs": [
        {
          "output_type": "execute_result",
          "data": {
            "text/plain": [
              "30"
            ]
          },
          "metadata": {},
          "execution_count": 103
        }
      ]
    },
    {
      "cell_type": "code",
      "source": [
        "10/3"
      ],
      "metadata": {
        "colab": {
          "base_uri": "https://localhost:8080/"
        },
        "id": "l6tuj-mHd2Hb",
        "outputId": "83f4aa1e-e38e-4ade-fc8c-fe37cdd7d28b"
      },
      "execution_count": null,
      "outputs": [
        {
          "output_type": "execute_result",
          "data": {
            "text/plain": [
              "3.3333333333333335"
            ]
          },
          "metadata": {},
          "execution_count": 104
        }
      ]
    },
    {
      "cell_type": "code",
      "source": [
        "10//3"
      ],
      "metadata": {
        "colab": {
          "base_uri": "https://localhost:8080/"
        },
        "id": "gdJFBUsod_aw",
        "outputId": "9b873a90-e0ce-432f-a630-d052c14a88c1"
      },
      "execution_count": null,
      "outputs": [
        {
          "output_type": "execute_result",
          "data": {
            "text/plain": [
              "3"
            ]
          },
          "metadata": {},
          "execution_count": 106
        }
      ]
    },
    {
      "cell_type": "code",
      "source": [
        "10%3"
      ],
      "metadata": {
        "colab": {
          "base_uri": "https://localhost:8080/"
        },
        "id": "k_HZKKt1eBK1",
        "outputId": "901542a5-70da-4a40-e2a8-e35e9900f2d1"
      },
      "execution_count": null,
      "outputs": [
        {
          "output_type": "execute_result",
          "data": {
            "text/plain": [
              "1"
            ]
          },
          "metadata": {},
          "execution_count": 107
        }
      ]
    },
    {
      "cell_type": "code",
      "source": [
        "10**3"
      ],
      "metadata": {
        "colab": {
          "base_uri": "https://localhost:8080/"
        },
        "id": "2qddvDQLay_7",
        "outputId": "347e6fc5-8df6-4fab-d260-a385f13d2bee"
      },
      "execution_count": null,
      "outputs": [
        {
          "output_type": "execute_result",
          "data": {
            "text/plain": [
              "1000"
            ]
          },
          "metadata": {},
          "execution_count": 109
        }
      ]
    },
    {
      "cell_type": "code",
      "source": [
        "# É possível fazer essas operações entre inteiros e float, sendo que o resultado sempre será um float\n",
        "a = 1.0\n",
        "b = 2\n",
        "\n",
        "a % b"
      ],
      "metadata": {
        "colab": {
          "base_uri": "https://localhost:8080/"
        },
        "id": "MGcjlYl3hGaV",
        "outputId": "969518d8-255c-4f48-d349-d2c8b8d57ff2"
      },
      "execution_count": null,
      "outputs": [
        {
          "output_type": "execute_result",
          "data": {
            "text/plain": [
              "1.0"
            ]
          },
          "metadata": {},
          "execution_count": 131
        }
      ]
    },
    {
      "cell_type": "markdown",
      "source": [
        "### Operadores de atribuição\n",
        "\n",
        "\n",
        "* `=`: Operador de atribuição\n",
        "\n",
        "A ideia geral dos próximos operadores é encurtar expressões como `x = x + 1 `, para se utilizar o `x` apenas uma vez fazendo `x += 1`\n",
        "\n",
        "* `+=`: para adicionar ao valor da variável\n",
        "* `-=`: para subtrair ao valor da variável\n",
        "* `*=`: para multiplicação ao valor da variável\n",
        "* `/=`: para divisão ao valor da variável\n",
        "* `%=`: para dar o módulo ao valor da variável\n",
        "\n",
        "\n"
      ],
      "metadata": {
        "id": "DAoPNIlGaNhl"
      }
    },
    {
      "cell_type": "code",
      "source": [
        "x = 10"
      ],
      "metadata": {
        "id": "lcTHCJOwf6Hw"
      },
      "execution_count": null,
      "outputs": []
    },
    {
      "cell_type": "code",
      "source": [
        "x = 10\n",
        "x += 3\n",
        "x"
      ],
      "metadata": {
        "colab": {
          "base_uri": "https://localhost:8080/"
        },
        "id": "fk63l9fEfqcY",
        "outputId": "0963642b-6d4f-4b9f-92e5-15245a9a7e39"
      },
      "execution_count": null,
      "outputs": [
        {
          "output_type": "execute_result",
          "data": {
            "text/plain": [
              "19"
            ]
          },
          "metadata": {},
          "execution_count": 113
        }
      ]
    },
    {
      "cell_type": "code",
      "source": [
        "x = 10\n",
        "x -= 3\n",
        "x"
      ],
      "metadata": {
        "colab": {
          "base_uri": "https://localhost:8080/"
        },
        "id": "jvcnEsGffuxO",
        "outputId": "4e4899f1-0ef1-44ec-fef6-3291e4e93cd8"
      },
      "execution_count": null,
      "outputs": [
        {
          "output_type": "execute_result",
          "data": {
            "text/plain": [
              "7"
            ]
          },
          "metadata": {},
          "execution_count": 116
        }
      ]
    },
    {
      "cell_type": "code",
      "source": [
        "x = 10\n",
        "x *= 3\n",
        "x"
      ],
      "metadata": {
        "colab": {
          "base_uri": "https://localhost:8080/"
        },
        "id": "DHGtAppof2pD",
        "outputId": "01b937f2-76d0-4bc9-eecf-3204cc7f4cf4"
      },
      "execution_count": null,
      "outputs": [
        {
          "output_type": "execute_result",
          "data": {
            "text/plain": [
              "30"
            ]
          },
          "metadata": {},
          "execution_count": 117
        }
      ]
    },
    {
      "cell_type": "code",
      "source": [
        "x = 10\n",
        "x /= 3\n",
        "x"
      ],
      "metadata": {
        "colab": {
          "base_uri": "https://localhost:8080/"
        },
        "id": "3X2InJKof8dv",
        "outputId": "1e7d52fd-ce3a-4a91-dd38-82a3d7081789"
      },
      "execution_count": null,
      "outputs": [
        {
          "output_type": "execute_result",
          "data": {
            "text/plain": [
              "3.3333333333333335"
            ]
          },
          "metadata": {},
          "execution_count": 118
        }
      ]
    },
    {
      "cell_type": "code",
      "source": [
        "x = 10\n",
        "x %= 3\n",
        "x"
      ],
      "metadata": {
        "colab": {
          "base_uri": "https://localhost:8080/"
        },
        "id": "BU9b9Xh7f-DR",
        "outputId": "d6ef7ed6-ee4c-4570-f41e-3e40af9b1a7a"
      },
      "execution_count": null,
      "outputs": [
        {
          "output_type": "execute_result",
          "data": {
            "text/plain": [
              "1"
            ]
          },
          "metadata": {},
          "execution_count": 119
        }
      ]
    },
    {
      "cell_type": "markdown",
      "source": [
        "### Operadores de comparação\n",
        "esses operadores retornam como resultado True (para comparação verdeira) ou False (para comparação falsa)\n",
        "\n",
        "* `>`: maior que\n",
        "* `<`: menor que\n",
        "* `==`: igual a\n",
        "* `!=`: difernente de\n",
        "* `>=`: maior ou igual a\n",
        "* `<=`: menor ou igual a\n",
        "\n",
        "\n",
        "\n",
        "\n",
        "\n",
        "\n"
      ],
      "metadata": {
        "id": "ZA2IiF9JgJa2"
      }
    },
    {
      "cell_type": "code",
      "source": [
        "a = 10\n",
        "b = 3"
      ],
      "metadata": {
        "id": "k0f1c2A7go6B"
      },
      "execution_count": null,
      "outputs": []
    },
    {
      "cell_type": "code",
      "source": [
        "a > b"
      ],
      "metadata": {
        "colab": {
          "base_uri": "https://localhost:8080/"
        },
        "id": "Cl8X47j2grwx",
        "outputId": "6d6ec2bf-1044-482c-d4eb-9e1dca0cb223"
      },
      "execution_count": null,
      "outputs": [
        {
          "output_type": "execute_result",
          "data": {
            "text/plain": [
              "True"
            ]
          },
          "metadata": {},
          "execution_count": 121
        }
      ]
    },
    {
      "cell_type": "code",
      "source": [
        "a < b"
      ],
      "metadata": {
        "colab": {
          "base_uri": "https://localhost:8080/"
        },
        "id": "S9VdS0w9gtHX",
        "outputId": "7198ead5-148d-4805-a31f-072a0860f9d5"
      },
      "execution_count": null,
      "outputs": [
        {
          "output_type": "execute_result",
          "data": {
            "text/plain": [
              "False"
            ]
          },
          "metadata": {},
          "execution_count": 122
        }
      ]
    },
    {
      "cell_type": "code",
      "source": [
        "a == b"
      ],
      "metadata": {
        "colab": {
          "base_uri": "https://localhost:8080/"
        },
        "id": "wSyD7nw2gw2s",
        "outputId": "1085a6f5-ffdf-471e-d253-870e4c2b74c5"
      },
      "execution_count": null,
      "outputs": [
        {
          "output_type": "execute_result",
          "data": {
            "text/plain": [
              "False"
            ]
          },
          "metadata": {},
          "execution_count": 123
        }
      ]
    },
    {
      "cell_type": "code",
      "source": [
        "a != b"
      ],
      "metadata": {
        "colab": {
          "base_uri": "https://localhost:8080/"
        },
        "id": "L4KPJZszgyaO",
        "outputId": "84340b03-f847-4d5f-8771-60bbbe2eab06"
      },
      "execution_count": null,
      "outputs": [
        {
          "output_type": "execute_result",
          "data": {
            "text/plain": [
              "True"
            ]
          },
          "metadata": {},
          "execution_count": 124
        }
      ]
    },
    {
      "cell_type": "code",
      "source": [
        "a >= b"
      ],
      "metadata": {
        "colab": {
          "base_uri": "https://localhost:8080/"
        },
        "id": "l_3F_1rtg0k8",
        "outputId": "a5d41b2d-d13c-47b4-a5b0-c88ed1e14157"
      },
      "execution_count": null,
      "outputs": [
        {
          "output_type": "execute_result",
          "data": {
            "text/plain": [
              "True"
            ]
          },
          "metadata": {},
          "execution_count": 125
        }
      ]
    },
    {
      "cell_type": "code",
      "source": [
        "a <= b"
      ],
      "metadata": {
        "colab": {
          "base_uri": "https://localhost:8080/"
        },
        "id": "JsT3-6bWg3d4",
        "outputId": "25285d0a-24ca-4d40-cc6a-7c93dae6423b"
      },
      "execution_count": null,
      "outputs": [
        {
          "output_type": "execute_result",
          "data": {
            "text/plain": [
              "False"
            ]
          },
          "metadata": {},
          "execution_count": 126
        }
      ]
    },
    {
      "cell_type": "markdown",
      "source": [
        "### Operadores lógicos\n",
        "\n",
        "* `and`: retorna True se _todas_ as condições forem verdadeiras\n",
        "* `or`: retorna True se _ao menos uma_ das condições for verdadeira\n",
        "* `not`: inverte o resultado, se o resultado da operação for verdadeiro, ele retorna falso"
      ],
      "metadata": {
        "id": "A3k_KEhig6X5"
      }
    },
    {
      "cell_type": "code",
      "source": [
        "# A média das alturas das árvores na Amazônia é 45m\n",
        "angelim_vermelho = 85.44\n",
        "tomateiro = 2\n",
        "\n"
      ],
      "metadata": {
        "id": "0zuJhgQFh6AR"
      },
      "execution_count": null,
      "outputs": []
    },
    {
      "cell_type": "code",
      "source": [
        "# As plantas são maiores ou iguais a média da Amazônia\n",
        "angelim_vermelho >= 45 and tomateiro >= 45"
      ],
      "metadata": {
        "colab": {
          "base_uri": "https://localhost:8080/"
        },
        "id": "P8MflAZliL0b",
        "outputId": "7ff15168-1e3f-4abb-bb50-e2852d9cea5b"
      },
      "execution_count": null,
      "outputs": [
        {
          "output_type": "execute_result",
          "data": {
            "text/plain": [
              "False"
            ]
          },
          "metadata": {},
          "execution_count": 140
        }
      ]
    },
    {
      "cell_type": "code",
      "source": [
        "# Ao menos uma das plantas é maior que a média da Amazônia\n",
        "angelim_vermelho >= 45 or tomateiro >= 45"
      ],
      "metadata": {
        "colab": {
          "base_uri": "https://localhost:8080/"
        },
        "id": "8xEQvxGFiNMJ",
        "outputId": "d6057832-eb54-4ca1-99fe-94cadd57c575"
      },
      "execution_count": null,
      "outputs": [
        {
          "output_type": "execute_result",
          "data": {
            "text/plain": [
              "True"
            ]
          },
          "metadata": {},
          "execution_count": 142
        }
      ]
    },
    {
      "cell_type": "code",
      "source": [
        "# Inverte o resultado\n",
        "not angelim_vermelho >= 45 or tomateiro >= 45"
      ],
      "metadata": {
        "colab": {
          "base_uri": "https://localhost:8080/"
        },
        "id": "VoTC30ezjLHR",
        "outputId": "f43e21e9-410b-4137-f52e-68910f94451d"
      },
      "execution_count": null,
      "outputs": [
        {
          "output_type": "execute_result",
          "data": {
            "text/plain": [
              "False"
            ]
          },
          "metadata": {},
          "execution_count": 168
        }
      ]
    },
    {
      "cell_type": "markdown",
      "source": [
        "### Operador de identidade\n",
        "\n",
        "* `is`: retorna True se as variáveis possuírem o mesmo\n",
        "* `is not`: retorna True se as variáveis _não_ possuírem o mesmo valor"
      ],
      "metadata": {
        "id": "sApeVRQBjeWf"
      }
    },
    {
      "cell_type": "code",
      "source": [
        "maior_arvore_amazonia = \"angelim vermelho\"\n",
        "planta_modelo = \"Arabidopsis thaliana\""
      ],
      "metadata": {
        "id": "ziWt0g8njt7N"
      },
      "execution_count": null,
      "outputs": []
    },
    {
      "cell_type": "code",
      "source": [
        "maior_arvore_amazonia is planta_modelo"
      ],
      "metadata": {
        "colab": {
          "base_uri": "https://localhost:8080/"
        },
        "id": "IuyHWphfj2_3",
        "outputId": "a15111d9-733e-4618-b4e5-83c01d11f864"
      },
      "execution_count": null,
      "outputs": [
        {
          "output_type": "execute_result",
          "data": {
            "text/plain": [
              "False"
            ]
          },
          "metadata": {},
          "execution_count": 154
        }
      ]
    },
    {
      "cell_type": "code",
      "source": [
        "maior_arvore_amazonia is not planta_modelo"
      ],
      "metadata": {
        "colab": {
          "base_uri": "https://localhost:8080/"
        },
        "id": "CedyP6PYkGy9",
        "outputId": "e0891ce7-50d9-4a6c-88a7-6cd47167ae4d"
      },
      "execution_count": null,
      "outputs": [
        {
          "output_type": "execute_result",
          "data": {
            "text/plain": [
              "True"
            ]
          },
          "metadata": {},
          "execution_count": 156
        }
      ]
    },
    {
      "cell_type": "markdown",
      "source": [
        "### Operadores de associação\n",
        "\n",
        "* `in`: retorna True caso o valor esteja na sequência\n",
        "* `not in`: retorna True caso o valor _não_ esteja na sequência\n"
      ],
      "metadata": {
        "id": "T6hvNTNmkuF0"
      }
    },
    {
      "cell_type": "code",
      "source": [
        "\"Arabidopsis thaliana\" in planta_modelo"
      ],
      "metadata": {
        "colab": {
          "base_uri": "https://localhost:8080/"
        },
        "id": "lE65xHEBlU4f",
        "outputId": "cc970efc-d156-41ab-ec72-2f65266ab264"
      },
      "execution_count": null,
      "outputs": [
        {
          "output_type": "execute_result",
          "data": {
            "text/plain": [
              "True"
            ]
          },
          "metadata": {},
          "execution_count": 172
        }
      ]
    },
    {
      "cell_type": "code",
      "source": [
        "\"angelim vermelho\" in planta_modelo"
      ],
      "metadata": {
        "colab": {
          "base_uri": "https://localhost:8080/"
        },
        "id": "i4uskuhzljdX",
        "outputId": "afff51d9-2519-42ab-bb2e-80981b5cc784"
      },
      "execution_count": null,
      "outputs": [
        {
          "output_type": "execute_result",
          "data": {
            "text/plain": [
              "False"
            ]
          },
          "metadata": {},
          "execution_count": 173
        }
      ]
    },
    {
      "cell_type": "code",
      "source": [
        "\"angelim vermelho\" not in planta_modelo\n"
      ],
      "metadata": {
        "colab": {
          "base_uri": "https://localhost:8080/"
        },
        "id": "SGOU_tWslpzD",
        "outputId": "efb4296e-7de2-4ae4-ff14-a269448c3cf5"
      },
      "execution_count": null,
      "outputs": [
        {
          "output_type": "execute_result",
          "data": {
            "text/plain": [
              "True"
            ]
          },
          "metadata": {},
          "execution_count": 174
        }
      ]
    },
    {
      "cell_type": "markdown",
      "source": [
        "# Ordem de procedência\n",
        "\n",
        "A ordem de procedência em Python segue a mesma convenção usada na matemática, isto é da maior para a menor procesência:\n",
        "\n",
        "parênteses > exponenciação > multiplicação e divisão > adição e subtração\n",
        "\n",
        "Sendo que para aqueles operadores com a mesma ordem de procedêcia a preferência é dada da direita para a esquerda, ou seja, a operação mais a direita tem a maior procedência."
      ],
      "metadata": {
        "id": "fuqdVB9Rl4Vr"
      }
    },
    {
      "cell_type": "code",
      "source": [
        "2*(3-1)"
      ],
      "metadata": {
        "colab": {
          "base_uri": "https://localhost:8080/"
        },
        "id": "w0hmDTLvnLAQ",
        "outputId": "651b6510-8caa-4536-c422-d91e275afa67"
      },
      "execution_count": null,
      "outputs": [
        {
          "output_type": "execute_result",
          "data": {
            "text/plain": [
              "4"
            ]
          },
          "metadata": {},
          "execution_count": 177
        }
      ]
    },
    {
      "cell_type": "code",
      "source": [
        "2*3-1"
      ],
      "metadata": {
        "colab": {
          "base_uri": "https://localhost:8080/"
        },
        "id": "H-_gAfBHnRAd",
        "outputId": "cdbad23a-9996-4f7e-905f-7acfe1dff94c"
      },
      "execution_count": null,
      "outputs": [
        {
          "output_type": "execute_result",
          "data": {
            "text/plain": [
              "5"
            ]
          },
          "metadata": {},
          "execution_count": 178
        }
      ]
    },
    {
      "cell_type": "code",
      "source": [
        "10 / 2 * 2"
      ],
      "metadata": {
        "colab": {
          "base_uri": "https://localhost:8080/"
        },
        "id": "th_KV7wgnwxq",
        "outputId": "c8143e9d-b108-47ff-ece2-4d1b6c6d25a8"
      },
      "execution_count": null,
      "outputs": [
        {
          "output_type": "execute_result",
          "data": {
            "text/plain": [
              "10.0"
            ]
          },
          "metadata": {},
          "execution_count": 181
        }
      ]
    },
    {
      "cell_type": "code",
      "source": [
        "10 / (2 * 2)"
      ],
      "metadata": {
        "colab": {
          "base_uri": "https://localhost:8080/"
        },
        "id": "OxI5FSESn05W",
        "outputId": "aa65970b-d29e-42dc-d109-bea8bf2384e3"
      },
      "execution_count": null,
      "outputs": [
        {
          "output_type": "execute_result",
          "data": {
            "text/plain": [
              "2.5"
            ]
          },
          "metadata": {},
          "execution_count": 182
        }
      ]
    },
    {
      "cell_type": "markdown",
      "source": [
        "a ordem da direita para a esquerda só muda para diversas exponenciações juntas, que começam da esquerda  para a direita"
      ],
      "metadata": {
        "id": "Kc8hsdagpl9_"
      }
    },
    {
      "cell_type": "code",
      "source": [
        "2**3**2"
      ],
      "metadata": {
        "colab": {
          "base_uri": "https://localhost:8080/"
        },
        "id": "d-YMZ3uuoCID",
        "outputId": "c7413592-652e-46ed-aa9b-2e0e879ffdaf"
      },
      "execution_count": null,
      "outputs": [
        {
          "output_type": "execute_result",
          "data": {
            "text/plain": [
              "512"
            ]
          },
          "metadata": {},
          "execution_count": 183
        }
      ]
    },
    {
      "cell_type": "code",
      "source": [
        "2**(3**2)"
      ],
      "metadata": {
        "colab": {
          "base_uri": "https://localhost:8080/"
        },
        "id": "ECka9RkLoFsY",
        "outputId": "7be4ba99-f25e-4e0e-8176-42b45ac2ed82"
      },
      "execution_count": null,
      "outputs": [
        {
          "output_type": "execute_result",
          "data": {
            "text/plain": [
              "512"
            ]
          },
          "metadata": {},
          "execution_count": 184
        }
      ]
    },
    {
      "cell_type": "code",
      "source": [
        "(2**3)**2"
      ],
      "metadata": {
        "colab": {
          "base_uri": "https://localhost:8080/"
        },
        "id": "ZaN1l2ZGoJsZ",
        "outputId": "f46d6cb8-5de6-473f-a9ed-e444f2c5b6e8"
      },
      "execution_count": null,
      "outputs": [
        {
          "output_type": "execute_result",
          "data": {
            "text/plain": [
              "64"
            ]
          },
          "metadata": {},
          "execution_count": 185
        }
      ]
    },
    {
      "cell_type": "code",
      "source": [
        "2**3**2**3"
      ],
      "metadata": {
        "colab": {
          "base_uri": "https://localhost:8080/"
        },
        "id": "DAkf8R_Gp5bl",
        "outputId": "5ea0521c-9620-4052-d458-65b8b60a3c2a"
      },
      "execution_count": null,
      "outputs": [
        {
          "output_type": "execute_result",
          "data": {
            "text/plain": [
              "11423562217377937432834817564864391054921813476074403186202876186307194708759156620192815736856953160782704625320798799480493785783539071475308181558958409886139180507766255745268835295645117313504338819263740326883325464574267555496207694285869572314648316514329215930122751571464318862255979369772869442140816230512157201729281184157721386877314303827951055243527097308944107496195827273952935604677267766071546533446890697483255207837930462782684172148575680225197203487779905492453075630072358789672398534046574327392486173694016134122557759726226515008486798286901592462027191956990502296836826476904023063730093767352130344242019656202260888892026453895468229206988071920295008873379682446553369924894350070488891702010078541708225795234839095211089097709112162085120097647338122139833228110600082989392591338433777616544053684799646500413069770687086581487137502485652747714529441936196186003229177757067964120330231232040963858808839184289548225605031170276587718715043046407159535959626211055259297605210472194352154412308176378305978722042762270067173474951806087819815154079666858570587012720661422637817709796687416276036064210127293014198595450513696623633614994073435824842954082330215697686198561610404629566074790086569059643951234599817490323492052082224793909497188899924748028310673588762417682527348630665205417209359086662377804683776356513790589272591978956170307165117107589512088595323312169179624851488689039519409637419425694423986296239609301255502738931127000906125692128912846840805341230670024948640174953768772224370653045179249084484537443164603352860688179124388887671769490857961498972552585448374811136545337429493009247982272748138694950049819837487875349582757538405984852225375998205031894594085879229119678150100444102619057722203800499447489455107613497927587194865059674725545869846288173614441578176037582721675130519361949018877981483652351653188988167198715064479729607107795243426756944986254682519699815429352363416415356114173952"
            ]
          },
          "metadata": {},
          "execution_count": 186
        }
      ]
    },
    {
      "cell_type": "code",
      "source": [
        "2**(3**(2**3))"
      ],
      "metadata": {
        "colab": {
          "base_uri": "https://localhost:8080/"
        },
        "id": "EhOxWF-nqE1T",
        "outputId": "84d59814-c4e3-4356-a9b7-0490c9e45527"
      },
      "execution_count": null,
      "outputs": [
        {
          "output_type": "execute_result",
          "data": {
            "text/plain": [
              "11423562217377937432834817564864391054921813476074403186202876186307194708759156620192815736856953160782704625320798799480493785783539071475308181558958409886139180507766255745268835295645117313504338819263740326883325464574267555496207694285869572314648316514329215930122751571464318862255979369772869442140816230512157201729281184157721386877314303827951055243527097308944107496195827273952935604677267766071546533446890697483255207837930462782684172148575680225197203487779905492453075630072358789672398534046574327392486173694016134122557759726226515008486798286901592462027191956990502296836826476904023063730093767352130344242019656202260888892026453895468229206988071920295008873379682446553369924894350070488891702010078541708225795234839095211089097709112162085120097647338122139833228110600082989392591338433777616544053684799646500413069770687086581487137502485652747714529441936196186003229177757067964120330231232040963858808839184289548225605031170276587718715043046407159535959626211055259297605210472194352154412308176378305978722042762270067173474951806087819815154079666858570587012720661422637817709796687416276036064210127293014198595450513696623633614994073435824842954082330215697686198561610404629566074790086569059643951234599817490323492052082224793909497188899924748028310673588762417682527348630665205417209359086662377804683776356513790589272591978956170307165117107589512088595323312169179624851488689039519409637419425694423986296239609301255502738931127000906125692128912846840805341230670024948640174953768772224370653045179249084484537443164603352860688179124388887671769490857961498972552585448374811136545337429493009247982272748138694950049819837487875349582757538405984852225375998205031894594085879229119678150100444102619057722203800499447489455107613497927587194865059674725545869846288173614441578176037582721675130519361949018877981483652351653188988167198715064479729607107795243426756944986254682519699815429352363416415356114173952"
            ]
          },
          "metadata": {},
          "execution_count": 187
        }
      ]
    },
    {
      "cell_type": "markdown",
      "source": [
        "#### Listas"
      ],
      "metadata": {
        "id": "O33ST-LjlUUt"
      }
    },
    {
      "cell_type": "code",
      "source": [
        "[]"
      ],
      "metadata": {
        "colab": {
          "base_uri": "https://localhost:8080/"
        },
        "id": "G-UQdEr5EjTd",
        "outputId": "a8b92bc2-0e89-405f-eb80-ab920469e168"
      },
      "execution_count": null,
      "outputs": [
        {
          "output_type": "execute_result",
          "data": {
            "text/plain": [
              "[]"
            ]
          },
          "metadata": {},
          "execution_count": 15
        }
      ]
    },
    {
      "cell_type": "code",
      "source": [
        "vochysiaceae = []"
      ],
      "metadata": {
        "id": "xrvY3B_1IZMR"
      },
      "execution_count": null,
      "outputs": []
    },
    {
      "cell_type": "code",
      "source": [
        "vochysiaceae = ['Qualea', 'Vochysia', 'Callisthene', 'Salvertia']"
      ],
      "metadata": {
        "id": "MpKyh7IMEri-"
      },
      "execution_count": null,
      "outputs": []
    },
    {
      "cell_type": "markdown",
      "source": [
        "#### Funções comuns a sequências\n",
        "\n",
        " * Acesso a sublistas usando índices\n",
        " * Funções (len, )\n"
      ],
      "metadata": {
        "id": "SL_cWTt4G2F7"
      }
    },
    {
      "cell_type": "code",
      "source": [
        "vochysiaceae[0]"
      ],
      "metadata": {
        "colab": {
          "base_uri": "https://localhost:8080/",
          "height": 35
        },
        "id": "YMOI-uN1GU0v",
        "outputId": "a14ea5f5-9a81-4233-b696-0b0f69be30c9"
      },
      "execution_count": null,
      "outputs": [
        {
          "output_type": "execute_result",
          "data": {
            "text/plain": [
              "'Qualea'"
            ],
            "application/vnd.google.colaboratory.intrinsic+json": {
              "type": "string"
            }
          },
          "metadata": {},
          "execution_count": 30
        }
      ]
    },
    {
      "cell_type": "code",
      "source": [
        "vochysiaceae[1]"
      ],
      "metadata": {
        "colab": {
          "base_uri": "https://localhost:8080/",
          "height": 35
        },
        "id": "1L2en-H5Gb9V",
        "outputId": "bbfc5210-b79b-49c5-ce13-01139d9644fc"
      },
      "execution_count": null,
      "outputs": [
        {
          "output_type": "execute_result",
          "data": {
            "text/plain": [
              "'vochysia'"
            ],
            "application/vnd.google.colaboratory.intrinsic+json": {
              "type": "string"
            }
          },
          "metadata": {},
          "execution_count": 17
        }
      ]
    },
    {
      "cell_type": "code",
      "source": [
        "vochysiaceae[-1]"
      ],
      "metadata": {
        "colab": {
          "base_uri": "https://localhost:8080/",
          "height": 35
        },
        "id": "udwq5tbmGqLn",
        "outputId": "a470fc53-e035-4219-939e-adff7a18f7c4"
      },
      "execution_count": null,
      "outputs": [
        {
          "output_type": "execute_result",
          "data": {
            "text/plain": [
              "'ruizterania'"
            ],
            "application/vnd.google.colaboratory.intrinsic+json": {
              "type": "string"
            }
          },
          "metadata": {},
          "execution_count": 18
        }
      ]
    },
    {
      "cell_type": "code",
      "source": [
        "len(vochysiaceae)"
      ],
      "metadata": {
        "colab": {
          "base_uri": "https://localhost:8080/"
        },
        "id": "Yn_WJAJPGvMx",
        "outputId": "395fb268-6a4b-4a51-9de8-506c0267b307"
      },
      "execution_count": null,
      "outputs": [
        {
          "output_type": "execute_result",
          "data": {
            "text/plain": [
              "5"
            ]
          },
          "metadata": {},
          "execution_count": 19
        }
      ]
    },
    {
      "cell_type": "code",
      "source": [
        "'Vochysia' in vochysiaceae"
      ],
      "metadata": {
        "colab": {
          "base_uri": "https://localhost:8080/"
        },
        "id": "g6IypfBVHg7X",
        "outputId": "6b2ec536-38db-43a1-84e1-5cf6b430019b"
      },
      "execution_count": null,
      "outputs": [
        {
          "output_type": "execute_result",
          "data": {
            "text/plain": [
              "True"
            ]
          },
          "metadata": {},
          "execution_count": 31
        }
      ]
    },
    {
      "cell_type": "code",
      "source": [
        "\"Saccharum\" in vochysiaceae"
      ],
      "metadata": {
        "colab": {
          "base_uri": "https://localhost:8080/"
        },
        "id": "OHtDaTPRG-Nz",
        "outputId": "4220497b-7868-4b63-93df-6b3a551b8c2b"
      },
      "execution_count": null,
      "outputs": [
        {
          "output_type": "execute_result",
          "data": {
            "text/plain": [
              "False"
            ]
          },
          "metadata": {},
          "execution_count": 32
        }
      ]
    },
    {
      "cell_type": "code",
      "source": [
        "\"Saccharum\" not in vochysiaceae"
      ],
      "metadata": {
        "colab": {
          "base_uri": "https://localhost:8080/"
        },
        "id": "xj3wwwgsHbWR",
        "outputId": "33a9ac01-5eae-4906-b896-64fef039ce79"
      },
      "execution_count": null,
      "outputs": [
        {
          "output_type": "execute_result",
          "data": {
            "text/plain": [
              "True"
            ]
          },
          "metadata": {},
          "execution_count": 22
        }
      ]
    },
    {
      "cell_type": "code",
      "source": [
        "'Ruizterania' in vochysiaceae"
      ],
      "metadata": {
        "colab": {
          "base_uri": "https://localhost:8080/"
        },
        "id": "N5mVphtSIuUt",
        "outputId": "0d5f2961-de66-4814-f17b-54a79f1f0547"
      },
      "execution_count": null,
      "outputs": [
        {
          "output_type": "execute_result",
          "data": {
            "text/plain": [
              "False"
            ]
          },
          "metadata": {},
          "execution_count": 33
        }
      ]
    },
    {
      "cell_type": "code",
      "source": [
        "vochysiaceae"
      ],
      "metadata": {
        "colab": {
          "base_uri": "https://localhost:8080/"
        },
        "id": "6DHG6WNDJ-8m",
        "outputId": "ef87e7d6-e8e6-4992-c0bf-7358ad2e12f6"
      },
      "execution_count": null,
      "outputs": [
        {
          "output_type": "execute_result",
          "data": {
            "text/plain": [
              "['Qualea', 'Vochysia', 'Callisthene', 'Salvertia', 'Erisma']"
            ]
          },
          "metadata": {},
          "execution_count": 44
        }
      ]
    },
    {
      "cell_type": "code",
      "source": [
        "vochysiaceae + ['Erisma']"
      ],
      "metadata": {
        "colab": {
          "base_uri": "https://localhost:8080/"
        },
        "id": "d7LrBu62KGf9",
        "outputId": "d540187e-3f0c-4992-fb24-ea8a0dc0fc92"
      },
      "execution_count": null,
      "outputs": [
        {
          "output_type": "execute_result",
          "data": {
            "text/plain": [
              "['Qualea', 'Vochysia', 'Callisthene', 'Salvertia', 'Erisma']"
            ]
          },
          "metadata": {},
          "execution_count": 46
        }
      ]
    },
    {
      "cell_type": "code",
      "source": [
        "vochysiaceae"
      ],
      "metadata": {
        "colab": {
          "base_uri": "https://localhost:8080/"
        },
        "id": "zigpo2V5KWMQ",
        "outputId": "1c955f06-d4c7-4f44-c89c-fe3fb56edc40"
      },
      "execution_count": null,
      "outputs": [
        {
          "output_type": "execute_result",
          "data": {
            "text/plain": [
              "['Qualea', 'Vochysia', 'Callisthene', 'Salvertia']"
            ]
          },
          "metadata": {},
          "execution_count": 47
        }
      ]
    },
    {
      "cell_type": "code",
      "source": [
        "vochysiaceae = vochysiaceae + ['Erisma']"
      ],
      "metadata": {
        "id": "rSj0PCPFKaHi"
      },
      "execution_count": null,
      "outputs": []
    },
    {
      "cell_type": "code",
      "source": [
        "vochysiaceae"
      ],
      "metadata": {
        "colab": {
          "base_uri": "https://localhost:8080/"
        },
        "id": "orHQJcnsKhUW",
        "outputId": "099ae583-2687-4a83-f698-e32bc730d2f7"
      },
      "execution_count": null,
      "outputs": [
        {
          "output_type": "execute_result",
          "data": {
            "text/plain": [
              "['Qualea', 'Vochysia', 'Callisthene', 'Salvertia', 'Erisma']"
            ]
          },
          "metadata": {},
          "execution_count": 49
        }
      ]
    },
    {
      "cell_type": "markdown",
      "source": [
        "#### Métodos para manipulação de listas"
      ],
      "metadata": {
        "id": "J1Clo0k_G-cJ"
      }
    },
    {
      "cell_type": "code",
      "source": [
        "vochysiaceae.append('Ruizterania')"
      ],
      "metadata": {
        "id": "-xK9y9-TIfb5"
      },
      "execution_count": null,
      "outputs": []
    },
    {
      "cell_type": "code",
      "source": [
        "vochysiaceae.append('Saccharum')"
      ],
      "metadata": {
        "id": "688SwU45K7EL"
      },
      "execution_count": null,
      "outputs": []
    },
    {
      "cell_type": "code",
      "source": [
        "vochysiaceae"
      ],
      "metadata": {
        "colab": {
          "base_uri": "https://localhost:8080/"
        },
        "id": "1lhvIeTBIpGz",
        "outputId": "efbf20d9-9429-4df1-a8ae-1d0cf916a8be"
      },
      "execution_count": null,
      "outputs": [
        {
          "output_type": "execute_result",
          "data": {
            "text/plain": [
              "['Qualea',\n",
              " 'Vochysia',\n",
              " 'Callisthene',\n",
              " 'Salvertia',\n",
              " 'Erisma',\n",
              " 'Ruizterania',\n",
              " 'Saccharum']"
            ]
          },
          "metadata": {},
          "execution_count": 54
        }
      ]
    },
    {
      "cell_type": "code",
      "source": [
        "vochysiaceae.count('Qualea')"
      ],
      "metadata": {
        "colab": {
          "base_uri": "https://localhost:8080/"
        },
        "id": "i_0D91_WI3lO",
        "outputId": "0348aab3-b2f2-46ba-8fbf-b71a7a565161"
      },
      "execution_count": null,
      "outputs": [
        {
          "output_type": "execute_result",
          "data": {
            "text/plain": [
              "1"
            ]
          },
          "metadata": {},
          "execution_count": 38
        }
      ]
    },
    {
      "cell_type": "code",
      "source": [
        "vochysiaceae.remove('Saccharum')"
      ],
      "metadata": {
        "id": "eea75dQbKzpP"
      },
      "execution_count": null,
      "outputs": []
    },
    {
      "cell_type": "code",
      "source": [
        "vochysiaceae"
      ],
      "metadata": {
        "colab": {
          "base_uri": "https://localhost:8080/"
        },
        "id": "D2MN7_9yLBRD",
        "outputId": "d3e2238e-744b-43e7-e7d8-b03d5f181d5f"
      },
      "execution_count": null,
      "outputs": [
        {
          "output_type": "execute_result",
          "data": {
            "text/plain": [
              "['Qualea', 'Vochysia', 'Callisthene', 'Salvertia', 'Erisma', 'Ruizterania']"
            ]
          },
          "metadata": {},
          "execution_count": 56
        }
      ]
    },
    {
      "cell_type": "code",
      "source": [
        "vochysiaceae.append('Saccharum')"
      ],
      "metadata": {
        "id": "KG0AylRCLFY-"
      },
      "execution_count": null,
      "outputs": []
    },
    {
      "cell_type": "code",
      "source": [
        "vochysiaceae.pop()"
      ],
      "metadata": {
        "colab": {
          "base_uri": "https://localhost:8080/",
          "height": 35
        },
        "id": "sZraVoOKLECN",
        "outputId": "4fde3c1a-32ae-40a8-a75c-6980bcb9d477"
      },
      "execution_count": null,
      "outputs": [
        {
          "output_type": "execute_result",
          "data": {
            "text/plain": [
              "'Salvertia'"
            ],
            "application/vnd.google.colaboratory.intrinsic+json": {
              "type": "string"
            }
          },
          "metadata": {},
          "execution_count": 63
        }
      ]
    },
    {
      "cell_type": "code",
      "source": [
        "vochysiaceae"
      ],
      "metadata": {
        "colab": {
          "base_uri": "https://localhost:8080/"
        },
        "id": "nZ0SSo3oLbsD",
        "outputId": "a436e940-2f8a-42d3-a936-6cf8fd01ca6d"
      },
      "execution_count": null,
      "outputs": [
        {
          "output_type": "execute_result",
          "data": {
            "text/plain": [
              "['Qualea', 'Vochysia', 'Callisthene']"
            ]
          },
          "metadata": {},
          "execution_count": 64
        }
      ]
    },
    {
      "cell_type": "code",
      "source": [
        "vochysiaceae.pop(1)"
      ],
      "metadata": {
        "colab": {
          "base_uri": "https://localhost:8080/",
          "height": 35
        },
        "id": "grQEr2PoLfUv",
        "outputId": "a90341e8-4e14-424b-91b2-08a67febd761"
      },
      "execution_count": null,
      "outputs": [
        {
          "output_type": "execute_result",
          "data": {
            "text/plain": [
              "'Vochysia'"
            ],
            "application/vnd.google.colaboratory.intrinsic+json": {
              "type": "string"
            }
          },
          "metadata": {},
          "execution_count": 65
        }
      ]
    },
    {
      "cell_type": "code",
      "source": [
        "vochysiaceae"
      ],
      "metadata": {
        "colab": {
          "base_uri": "https://localhost:8080/"
        },
        "id": "PCn1YvSILpTB",
        "outputId": "8125f65e-29ed-4360-ad5d-bf2f92b0cce7"
      },
      "execution_count": null,
      "outputs": [
        {
          "output_type": "execute_result",
          "data": {
            "text/plain": [
              "['Qualea', 'Callisthene']"
            ]
          },
          "metadata": {},
          "execution_count": 66
        }
      ]
    },
    {
      "cell_type": "code",
      "source": [
        "vochysiaceae = ['Qualea', 'Vochysia', 'Callisthene', 'Salvertia', 'Erisma',\n",
        "                'Ruizterania']"
      ],
      "metadata": {
        "id": "JRk9gz9WLxl3"
      },
      "execution_count": null,
      "outputs": []
    },
    {
      "cell_type": "code",
      "source": [
        "vochysiaceae.append(['Qualea', 'Vochysia', 'Callisthene', 'Salvertia', 'Erisma', 'Ruizterania'])"
      ],
      "metadata": {
        "id": "Kkj7sy2QL1wo"
      },
      "execution_count": null,
      "outputs": []
    },
    {
      "cell_type": "code",
      "source": [
        "vochysiaceae.pop()"
      ],
      "metadata": {
        "colab": {
          "base_uri": "https://localhost:8080/"
        },
        "id": "T6Rr-voUMifE",
        "outputId": "7bd6d641-0443-4cdd-8df0-4a194b164abe"
      },
      "execution_count": null,
      "outputs": [
        {
          "output_type": "execute_result",
          "data": {
            "text/plain": [
              "['Qualea', 'Vochysia', 'Callisthene', 'Salvertia', 'Erisma', 'Ruizterania']"
            ]
          },
          "metadata": {},
          "execution_count": 78
        }
      ]
    },
    {
      "cell_type": "code",
      "source": [
        "vochysiaceae"
      ],
      "metadata": {
        "colab": {
          "base_uri": "https://localhost:8080/"
        },
        "id": "lj_8grPFMpFS",
        "outputId": "974f5061-492a-436a-82bf-bf9f96125246"
      },
      "execution_count": null,
      "outputs": [
        {
          "output_type": "execute_result",
          "data": {
            "text/plain": [
              "[]"
            ]
          },
          "metadata": {},
          "execution_count": 81
        }
      ]
    },
    {
      "cell_type": "code",
      "source": [
        "vochysiaceae.extend(['Qualea', 'Vochysia', 'Callisthene', 'Salvertia', 'Erisma', 'Ruizterania'])"
      ],
      "metadata": {
        "id": "3UNF7H7XMqsT"
      },
      "execution_count": null,
      "outputs": []
    },
    {
      "cell_type": "code",
      "source": [
        "vochysiaceae"
      ],
      "metadata": {
        "colab": {
          "base_uri": "https://localhost:8080/"
        },
        "id": "9JNqnCuoM8H7",
        "outputId": "1e615b9c-6949-4f7b-83e3-bbaf726aefc1"
      },
      "execution_count": null,
      "outputs": [
        {
          "output_type": "execute_result",
          "data": {
            "text/plain": [
              "['Qualea', 'Vochysia', 'Callisthene', 'Salvertia', 'Erisma', 'Ruizterania']"
            ]
          },
          "metadata": {},
          "execution_count": 83
        }
      ]
    },
    {
      "cell_type": "code",
      "source": [
        "vochysiaceae.append(\"Luá\")"
      ],
      "metadata": {
        "id": "yY-pPnRyNMN2"
      },
      "execution_count": null,
      "outputs": []
    },
    {
      "cell_type": "code",
      "source": [
        "vochysiaceae.append()"
      ],
      "metadata": {
        "colab": {
          "base_uri": "https://localhost:8080/"
        },
        "id": "a4ZE--1_NOXu",
        "outputId": "3307ec43-beaf-412f-b1e4-4204dc46a057"
      },
      "execution_count": null,
      "outputs": [
        {
          "output_type": "execute_result",
          "data": {
            "text/plain": [
              "['Qualea',\n",
              " 'Vochysia',\n",
              " 'Callisthene',\n",
              " 'Salvertia',\n",
              " 'Erisma',\n",
              " 'Ruizterania',\n",
              " 'Luá']"
            ]
          },
          "metadata": {},
          "execution_count": 85
        }
      ]
    },
    {
      "cell_type": "code",
      "source": [
        "vochysiaceae.insert(2, 'Callisthene')"
      ],
      "metadata": {
        "id": "EWtGeE2HNhrZ"
      },
      "execution_count": null,
      "outputs": []
    },
    {
      "cell_type": "code",
      "source": [
        "vochysiaceae"
      ],
      "metadata": {
        "colab": {
          "base_uri": "https://localhost:8080/"
        },
        "id": "LfXMGkxXN3nd",
        "outputId": "1f44260b-9d34-4f50-da96-74ea8c27bd49"
      },
      "execution_count": null,
      "outputs": [
        {
          "output_type": "execute_result",
          "data": {
            "text/plain": [
              "['Qualea',\n",
              " 'Vochysia',\n",
              " 'Callisthene',\n",
              " 'Callisthene',\n",
              " 'Salvertia',\n",
              " 'Erisma',\n",
              " 'Ruizterania',\n",
              " 'Luá']"
            ]
          },
          "metadata": {},
          "execution_count": 93
        }
      ]
    },
    {
      "cell_type": "code",
      "source": [
        "vochysiaceae.index('Callisthene')"
      ],
      "metadata": {
        "colab": {
          "base_uri": "https://localhost:8080/"
        },
        "id": "zhp0oRdBPQOt",
        "outputId": "d6fc2be3-9e84-4515-8e85-098b06316189"
      },
      "execution_count": null,
      "outputs": [
        {
          "output_type": "execute_result",
          "data": {
            "text/plain": [
              "2"
            ]
          },
          "metadata": {},
          "execution_count": 98
        }
      ]
    },
    {
      "cell_type": "code",
      "source": [
        "for genus in ['Qualea', 'Vochysia', 'Callisthene', 'Salvertia', 'Erisma', 'Ruizterania']:\n",
        "    if vochysiaceae.count(genus) > 1:\n",
        "        index2remove = vochysiaceae.index('Callisthene')\n",
        "        vochysiaceae.pop(index2remove)"
      ],
      "metadata": {
        "id": "6shAZ_ZtN-ca"
      },
      "execution_count": null,
      "outputs": []
    },
    {
      "cell_type": "markdown",
      "source": [
        "#### Dicionários"
      ],
      "metadata": {
        "id": "RRPncmcSKoka"
      }
    },
    {
      "cell_type": "code",
      "source": [
        "tipos_orgaos = {}"
      ],
      "metadata": {
        "id": "eUo5AGhyKsCq"
      },
      "execution_count": null,
      "outputs": []
    },
    {
      "cell_type": "code",
      "source": [
        "type(tipos_orgaos)"
      ],
      "metadata": {
        "colab": {
          "base_uri": "https://localhost:8080/"
        },
        "id": "c4KQpi44KvZp",
        "outputId": "76b960b6-77f2-4fba-dafb-497512a454ec"
      },
      "execution_count": null,
      "outputs": [
        {
          "output_type": "execute_result",
          "data": {
            "text/plain": [
              "dict"
            ]
          },
          "metadata": {},
          "execution_count": 13
        }
      ]
    },
    {
      "cell_type": "code",
      "source": [
        "tipos_orgaos"
      ],
      "metadata": {
        "id": "PCO7oCirLySd"
      },
      "execution_count": null,
      "outputs": []
    },
    {
      "cell_type": "code",
      "source": [
        "tipos_orgaos = {\n",
        " 'raiz': ['adventicia', 'pivotante'],\n",
        " 'caule': 'aéreo',\n",
        " 'folhas': 'opostas',\n",
        "}"
      ],
      "metadata": {
        "id": "fA5z53J4Kp9W"
      },
      "execution_count": null,
      "outputs": []
    },
    {
      "cell_type": "code",
      "source": [
        "tipos_orgaos['flor'] = ['petala', 'sepala']"
      ],
      "metadata": {
        "id": "a-mC6nwkLHs1"
      },
      "execution_count": null,
      "outputs": []
    },
    {
      "cell_type": "code",
      "source": [
        "tipos_orgaos"
      ],
      "metadata": {
        "colab": {
          "base_uri": "https://localhost:8080/"
        },
        "id": "EqRm7nQwLgWm",
        "outputId": "6c79d3f6-2a78-4b5d-d81d-1eebe239edcc"
      },
      "execution_count": null,
      "outputs": [
        {
          "output_type": "execute_result",
          "data": {
            "text/plain": [
              "{'caule': 'tortuoso',\n",
              " 'flor': ['petala', 'sepala'],\n",
              " 'folhas': 'opostas',\n",
              " 'raiz': ['adventicia', 'pivotante']}"
            ]
          },
          "metadata": {},
          "execution_count": 21
        }
      ]
    },
    {
      "cell_type": "code",
      "source": [
        "tipos_orgaos"
      ],
      "metadata": {
        "colab": {
          "base_uri": "https://localhost:8080/"
        },
        "id": "cztShvTxLNXJ",
        "outputId": "9e0eb375-6f74-42c3-f78f-57954ca973e1"
      },
      "execution_count": null,
      "outputs": [
        {
          "output_type": "execute_result",
          "data": {
            "text/plain": [
              "{'caule': 'tortuoso', 'folhas': 'opostas', 'raiz': ['adventicia', 'pivotante']}"
            ]
          },
          "metadata": {},
          "execution_count": 19
        }
      ]
    },
    {
      "cell_type": "code",
      "source": [
        "tipos_orgaos['flor']"
      ],
      "metadata": {
        "colab": {
          "base_uri": "https://localhost:8080/"
        },
        "id": "imS3e67DLqRo",
        "outputId": "3e58da2e-b0fb-425f-cd57-a254f7780f26"
      },
      "execution_count": null,
      "outputs": [
        {
          "output_type": "execute_result",
          "data": {
            "text/plain": [
              "['petala', 'sepala']"
            ]
          },
          "metadata": {},
          "execution_count": 25
        }
      ]
    }
  ]
}
